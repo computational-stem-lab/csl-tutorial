{
 "cells": [
  {
   "cell_type": "markdown",
   "metadata": {},
   "source": [
    "# Python Intro "
   ]
  },
  {
   "cell_type": "markdown",
   "metadata": {},
   "source": [
    "### Using this notebook:"
   ]
  },
  {
   "cell_type": "markdown",
   "metadata": {},
   "source": [
    "> * __Jupyter Notebook__: a computational environment that allows us to neatly format and keep track of our Python code in <font color=blue>\"notebooks\"</font>. <br>\n",
    "<br>\n",
    "* __Cell__: the darker grey space below denoted by <font color=blue>\"  In [ &ensp; ]  :  \"</font>. Each cell is a convenient container for us to write a segment of Python code in. We can run the code inside of a cell using the `ctrl + enter` or `shift + enter` keyboard shortcuts. Cells are used to separate parts of our code that we want to run separately from one another.\n",
    "\n",
    "Select the cells below and press `ctrl + enter` to run the code inside of them:"
   ]
  },
  {
   "cell_type": "code",
   "execution_count": 1,
   "metadata": {},
   "outputs": [
    {
     "data": {
      "text/plain": [
       "9"
      ]
     },
     "execution_count": 1,
     "metadata": {},
     "output_type": "execute_result"
    }
   ],
   "source": [
    "5 + 4 "
   ]
  },
  {
   "cell_type": "code",
   "execution_count": 2,
   "metadata": {},
   "outputs": [
    {
     "data": {
      "text/plain": [
       "3"
      ]
     },
     "execution_count": 2,
     "metadata": {},
     "output_type": "execute_result"
    }
   ],
   "source": [
    "6 - 3"
   ]
  },
  {
   "cell_type": "code",
   "execution_count": 3,
   "metadata": {},
   "outputs": [
    {
     "data": {
      "text/plain": [
       "12"
      ]
     },
     "execution_count": 3,
     "metadata": {},
     "output_type": "execute_result"
    }
   ],
   "source": [
    "3 * 4 "
   ]
  },
  {
   "cell_type": "markdown",
   "metadata": {},
   "source": [
    "> __Question__: What is 12345 * 1234 <br>"
   ]
  },
  {
   "cell_type": "code",
   "execution_count": 5,
   "metadata": {},
   "outputs": [],
   "source": [
    "####### YOUR CODE HERE #######\n"
   ]
  },
  {
   "cell_type": "markdown",
   "metadata": {},
   "source": [
    "### 1. Variable Assignment "
   ]
  },
  {
   "cell_type": "markdown",
   "metadata": {},
   "source": [
    "> * We can assign values to variables with the \" __=__ \" assignment operator. Values assigned to variables are called \"parameters\" or \"constants\" and are stored in memory to be \"called\" by their variable names in other operations. <br>\n",
    "* After we assign a value to a variable, the variable will represent the value all the time until we change it."
   ]
  },
  {
   "cell_type": "code",
   "execution_count": 4,
   "metadata": {},
   "outputs": [],
   "source": [
    "## P.S. We can write \"comments\" in cells using the '#'. \n",
    "# Writing comments is useful for annotating our code as we write it. \n",
    "# Comments are ignored when the code is run.\n",
    "\n",
    "####### Example #######\n",
    "a = 5\n",
    "b = 0.5\n",
    "c = \"dogs\" # strings can be written with either double \"\" or single '' quotes."
   ]
  },
  {
   "cell_type": "markdown",
   "metadata": {},
   "source": [
    "> Example: Candace has 7 cats. "
   ]
  },
  {
   "cell_type": "code",
   "execution_count": 5,
   "metadata": {},
   "outputs": [],
   "source": [
    "candace_cats = 7 "
   ]
  },
  {
   "cell_type": "code",
   "execution_count": 6,
   "metadata": {},
   "outputs": [
    {
     "data": {
      "text/plain": [
       "7"
      ]
     },
     "execution_count": 6,
     "metadata": {},
     "output_type": "execute_result"
    }
   ],
   "source": [
    "candace_cats"
   ]
  },
  {
   "cell_type": "markdown",
   "metadata": {},
   "source": [
    "Adam has 693 treats. "
   ]
  },
  {
   "cell_type": "code",
   "execution_count": 7,
   "metadata": {},
   "outputs": [],
   "source": [
    "adam_treats = 693"
   ]
  },
  {
   "cell_type": "code",
   "execution_count": 8,
   "metadata": {},
   "outputs": [
    {
     "data": {
      "text/plain": [
       "693"
      ]
     },
     "execution_count": 8,
     "metadata": {},
     "output_type": "execute_result"
    }
   ],
   "source": [
    "adam_treats"
   ]
  },
  {
   "cell_type": "code",
   "execution_count": 9,
   "metadata": {},
   "outputs": [
    {
     "data": {
      "text/plain": [
       "7"
      ]
     },
     "execution_count": 9,
     "metadata": {},
     "output_type": "execute_result"
    }
   ],
   "source": [
    "candace_cats"
   ]
  },
  {
   "cell_type": "markdown",
   "metadata": {},
   "source": [
    "> __Question__: Adam wants to distribute his treats evenly to each cat, how many treats will each cat get? (use the variable `candace_cats` and `adam_treats`)"
   ]
  },
  {
   "cell_type": "code",
   "execution_count": 10,
   "metadata": {},
   "outputs": [],
   "source": [
    "####### YOUR CODE HERE #######\n"
   ]
  },
  {
   "cell_type": "markdown",
   "metadata": {},
   "source": [
    "### 2. Run functions "
   ]
  },
  {
   "cell_type": "markdown",
   "metadata": {},
   "source": [
    "> * Function is a block of code that can take some inputs, do a sequence of steps, and then return an output. <br> \n",
    "* Add parameters within the parentheses of the function as input"
   ]
  },
  {
   "cell_type": "markdown",
   "metadata": {},
   "source": [
    "> Example: Define a function `multiply()` that take input a and b returns multiplication of a and b. "
   ]
  },
  {
   "cell_type": "code",
   "execution_count": 11,
   "metadata": {},
   "outputs": [],
   "source": [
    "def multiply(a,b):\n",
    "    answer = a * b\n",
    "    return answer"
   ]
  },
  {
   "cell_type": "markdown",
   "metadata": {},
   "source": [
    "> * Calling a function means that you execute the function that you have defined. <br>\n",
    "* We need to follow the parameter order in the parentheses to call the function."
   ]
  },
  {
   "cell_type": "code",
   "execution_count": 12,
   "metadata": {},
   "outputs": [
    {
     "data": {
      "text/plain": [
       "15"
      ]
     },
     "execution_count": 12,
     "metadata": {},
     "output_type": "execute_result"
    }
   ],
   "source": [
    "multiply(5,3)"
   ]
  },
  {
   "cell_type": "markdown",
   "metadata": {},
   "source": [
    "> Example:  \n",
    "We have a function called `divide_treats` that solves: when each cat will get food one by one until there are no more left, how many treats will each cat get? "
   ]
  },
  {
   "cell_type": "code",
   "execution_count": 13,
   "metadata": {},
   "outputs": [],
   "source": [
    "def divide_treats(cats, treats):\n",
    "    div = treats//cats\n",
    "    each_get = [div] * cats\n",
    "    mod = treats % cats\n",
    "    for i in range(mod):\n",
    "        each_get[i]+=1 \n",
    "    for i in range(cats):\n",
    "        print(\"Cat{} get {} treats\".format(i+1,each_get[i]))\n",
    "    "
   ]
  },
  {
   "cell_type": "code",
   "execution_count": 14,
   "metadata": {},
   "outputs": [
    {
     "name": "stdout",
     "output_type": "stream",
     "text": [
      "Cat1 get 99 treats\n",
      "Cat2 get 99 treats\n",
      "Cat3 get 99 treats\n",
      "Cat4 get 99 treats\n",
      "Cat5 get 99 treats\n",
      "Cat6 get 99 treats\n",
      "Cat7 get 99 treats\n"
     ]
    }
   ],
   "source": [
    "divide_treats(candace_cats, adam_treats)"
   ]
  },
  {
   "cell_type": "markdown",
   "metadata": {},
   "source": [
    "> __Question__: Candace has two other friends, Jack and Maria. Jack has 54 treats and Maria has 13 treats. How many treats will each cat get? "
   ]
  },
  {
   "cell_type": "code",
   "execution_count": 15,
   "metadata": {},
   "outputs": [],
   "source": [
    "####### YOUR CODE HERE #######\n"
   ]
  },
  {
   "cell_type": "code",
   "execution_count": 16,
   "metadata": {},
   "outputs": [],
   "source": [
    "####### YOUR CODE HERE #######\n"
   ]
  }
 ],
 "metadata": {
  "kernelspec": {
   "display_name": "Python 3",
   "language": "python",
   "name": "python3"
  },
  "language_info": {
   "codemirror_mode": {
    "name": "ipython",
    "version": 3
   },
   "file_extension": ".py",
   "mimetype": "text/x-python",
   "name": "python",
   "nbconvert_exporter": "python",
   "pygments_lexer": "ipython3",
   "version": "3.8.3"
  }
 },
 "nbformat": 4,
 "nbformat_minor": 4
}
