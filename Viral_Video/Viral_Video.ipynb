{
 "cells": [
  {
   "cell_type": "markdown",
   "metadata": {},
   "source": [
    "## Viral Video Activity\n",
    "\n",
    "Every few weeks it seems that there is a new \"viral\" video (a new TikTock dance, a funny cat video, a clip of someone being pranked, etc.) that everyone has seen. This video of Brody the dog interupting the weather forcast (https://www.youtube.com/watch?v=XehLZLOyVUc) has been viewed over 3 million times on YouTube since it was posted in April. How do these videos spread? Can we use computers to predict the spread of a viral video? Are we able to estimate how many people will watch a viral video? How long it will be popular for? In this activity we are going to use code to try and answer these questions.   "
   ]
  },
  {
   "cell_type": "markdown",
   "metadata": {},
   "source": [
    "**Situation:** Your friend from school has just sent you a brand new video of a super catchy song. The song gets stuck in your head immediately and you instantly know that this song is going to \"go viral\" in your middle school. You start texting the link to friends at school and wonder how long it will be until the whole school has listened to it?       "
   ]
  },
  {
   "cell_type": "markdown",
   "metadata": {},
   "source": [
    "* **Example:** If you send the link to 2 friends and those friends each send it to 2 more friends, how many other people have the link now. While we might be able to answer this question without a computer, let's practice writing our first piece of code. The darker grey space below denoted by <font color=blue>\"  In [ &ensp; ]  :  \"</font> is called a code block, in it we give the computer instructions and tell it to follow the instructions by pressing the **Run** button at the stop or `ctrl + enter` or `shift + enter`. Run the code chunk below - what answer do you get? "
   ]
  },
  {
   "cell_type": "code",
   "execution_count": null,
   "metadata": {},
   "outputs": [],
   "source": [
    "2 * 2"
   ]
  },
  {
   "cell_type": "markdown",
   "metadata": {},
   "source": [
    "* Can you tell the computer to do a more complicated math problem in the cell below? In python `+` means addition `-` means subtraction, `*` means multiplication, and `/` means division. "
   ]
  },
  {
   "cell_type": "code",
   "execution_count": null,
   "metadata": {},
   "outputs": [],
   "source": [
    "#### Your code goes here ####"
   ]
  },
  {
   "cell_type": "markdown",
   "metadata": {},
   "source": [
    "* Now those 4 friends have each sent the video to 2 more people each and those people sent it to even more people. This is starting to get out of hand! Let's use code to figure out how many people have seen the video each time it get forwarded. To start we will make a variable called `number_seen`. In computer programming variables hold values that we can then change later without having to retype all our code. In the code block below we assign the value of 1 to the variable `number_seen` and print out its value."
   ]
  },
  {
   "cell_type": "code",
   "execution_count": null,
   "metadata": {},
   "outputs": [],
   "source": [
    "number_seen = 1\n",
    "print(number_seen)"
   ]
  },
  {
   "cell_type": "markdown",
   "metadata": {},
   "source": [
    "* What happens if you assign `numer_seen` equal to 2?"
   ]
  },
  {
   "cell_type": "code",
   "execution_count": null,
   "metadata": {},
   "outputs": [],
   "source": [
    "number_seen = \n",
    "print(number_seen)"
   ]
  },
  {
   "cell_type": "markdown",
   "metadata": {},
   "source": [
    "* Let's say that the video you sent to 2 people has been forwarded 9 times, with each person forwarding it to 2 more people each time. Instead of typing out `2*2*2*2*2*2*2*2*2` we will tell the computer multiply our variable `number_seen` by 2 and repeat 9 times.    "
   ]
  },
  {
   "cell_type": "code",
   "execution_count": null,
   "metadata": {},
   "outputs": [],
   "source": [
    "number_seen = 1\n",
    "for i in range(0,9):\n",
    "    number_seen = number_seen * 2\n",
    "    print(number_seen)"
   ]
  },
  {
   "cell_type": "markdown",
   "metadata": {},
   "source": [
    "* How many people have seen the video now? If you school has 1000 students, what percentage of them have seen the video? Below we have written a function to figure this out. A function is a block of code that can take some inputs, do a sequence of steps, and then return an output. Run the code block below to tell the computer our function.    "
   ]
  },
  {
   "cell_type": "code",
   "execution_count": null,
   "metadata": {},
   "outputs": [],
   "source": [
    "def percent_of_school(number):\n",
    "    proportion = number / 1000\n",
    "    percent = proportion * 100\n",
    "    return percent"
   ]
  },
  {
   "cell_type": "markdown",
   "metadata": {},
   "source": [
    "* Calling a function means that you execute the function that you have defined. Below we tell the comuter to run the `percent_of_school` function on our variable `number_seen`."
   ]
  },
  {
   "cell_type": "code",
   "execution_count": null,
   "metadata": {},
   "outputs": [],
   "source": [
    "percent_of_school(number_seen)"
   ]
  },
  {
   "cell_type": "markdown",
   "metadata": {},
   "source": [
    "* Can you define a variable called `my_fav_number` and assign your favorite number to it? Then use the `percent_of_school` function to figure out what percent of the school your number represents? "
   ]
  },
  {
   "cell_type": "code",
   "execution_count": null,
   "metadata": {},
   "outputs": [],
   "source": [
    "#### Your code goes here ####"
   ]
  },
  {
   "cell_type": "markdown",
   "metadata": {},
   "source": [
    "Nice job! So far we have assumed that every person you send the link will automatically open it and get the song stuck in their head. Now we are going to use a more realistic computer model to study the spread of our video. \n",
    "\n",
    "* **A scientific model is an object, diagram, or computer program that helps us understand something by making it simpler.** For example, meterologists use models to predict the weather before it happens.   \n",
    "\n",
    "\n",
    "* **Models approximate what happens in real life but they also have limitations.** Most of the time meterologists can predict when it will rain using their models but sometimes you check the weather app in the morning and it predicts a sunny day but it still rains in the afternoon.  \n",
    "\n",
    "\n",
    "* **Scientists collect data and build their models based on evidence.** Here we are going to use a model that scientists have created to explain how things spread across a group of people. We will use this model to predict how our viral video will spread across our middle school.    \n",
    "\n",
    "\n",
    "**Model:** In this model there are 3 types of people; **people who have not yet seen the video (H), people who have seen it and have the song stuck in their head (S), and people who have seen it and managed to get it out of their head and are now \"over it\"(O).** The rate at which people who are currently obessed with the song spread the video to people who have never seen it depends on how many people they text the link to and how many of those people open the link and get it stuck in their head. In this model we are going to say that 1 in 10 people you send the link to actually opens it and becomes obsessed. We will investigate how changing the `contact_rate` (the number of people an obsessed person sends the link to per hour) changes the spread of the video. The other thing we will investigate is the `catchiness` of the songs. The `catchiness` is the average time someone has the song stuck in their head before getting over it.   \n",
    "\n",
    "![title](HSO.png)"
   ]
  },
  {
   "cell_type": "markdown",
   "metadata": {},
   "source": [
    "Let's use code to investigate how fast the video will spread under different circumstances! First let's model the spread of the video if you send the video to 2 friends per hour and the song is stuck in your head for 10 hours. In the code block below set `contact_rate` equal to 2 and `catchiness` equal to 10. "
   ]
  },
  {
   "cell_type": "code",
   "execution_count": null,
   "metadata": {},
   "outputs": [],
   "source": [
    "# This code is loading modules we need to run the model\n",
    "from helper_functions import deriv, HSO, plot\n",
    "import numpy as np \n",
    "\n",
    "####### Set the number of people who send the video per hour equal to 2\n",
    "contact_rate = \n",
    "#######\n",
    "\n",
    "####### Set the amount of time the video gets stuck in someone's head equal to 10\n",
    "catchiness = \n",
    "#######"
   ]
  },
  {
   "cell_type": "markdown",
   "metadata": {},
   "source": [
    "In the code chunck below we are calling a function that uses the `contact_rate` and `catchiness` parameters to model the spread of the virus over time. Run the model to get the number of have not seen it, stuck in head, and over it individuals over the next 160 hours.   "
   ]
  },
  {
   "cell_type": "code",
   "execution_count": null,
   "metadata": {},
   "outputs": [],
   "source": [
    "H, S, O = HSO(contact_rate, catchiness)"
   ]
  },
  {
   "cell_type": "markdown",
   "metadata": {},
   "source": [
    "We have sucessfully run our model, let's take a look at the results! The code below will take the results of our simulation and plots them so we can analyze what predicitions our model makes. Can anyone explain what the meaning of this graph is? "
   ]
  },
  {
   "cell_type": "code",
   "execution_count": null,
   "metadata": {},
   "outputs": [],
   "source": [
    "plot(H, S, O)"
   ]
  },
  {
   "cell_type": "markdown",
   "metadata": {},
   "source": [
    "Nice job! In the plot above we can see the number of students in each of our three groups. From the plot, at what time will most people have the song stuck in their head?  "
   ]
  },
  {
   "cell_type": "markdown",
   "metadata": {},
   "source": [
    "After 160 hours, how many students have seen the video and now over it? We can also use code to answer this question. In the code below we assign the number of people who are over it at time 160 to the variable `number_seen`. Can you call the function `percent_of_school` to figure out the percent of the school who have seen the video?    "
   ]
  },
  {
   "cell_type": "code",
   "execution_count": null,
   "metadata": {},
   "outputs": [],
   "source": [
    "number_seen = O[159]\n",
    "\n",
    "### Your code goes here\n"
   ]
  },
  {
   "cell_type": "markdown",
   "metadata": {},
   "source": [
    "What if the teachers aren't paying close attention in class and students can now text 4 people per hour instead of 2? Do you think this will *increase* or *decrease* the percent of the school who sees the video? Let's reset `contact_rate` and re-run our model. "
   ]
  },
  {
   "cell_type": "code",
   "execution_count": null,
   "metadata": {},
   "outputs": [],
   "source": [
    "###### Reset the number of people you text per hour to 4\n",
    "contact_rate = \n",
    "######\n",
    "\n",
    "##### Re-run model\n",
    "H, S, O = HSO(contact_rate, catchiness)\n",
    "#####\n",
    "\n",
    "##### Plot results\n",
    "plot(H, S, O)\n",
    "#####"
   ]
  },
  {
   "cell_type": "markdown",
   "metadata": {},
   "source": [
    "Use code to figure out how to figure out the percent of the school who have seen the video now. "
   ]
  },
  {
   "cell_type": "code",
   "execution_count": null,
   "metadata": {},
   "outputs": [],
   "source": [
    "number_seen = O[159]\n",
    "\n",
    "### Your code goes here\n"
   ]
  },
  {
   "cell_type": "markdown",
   "metadata": {},
   "source": [
    "The teachers have caught on and are sick of students watching the video! To stop the spread of they resort to extreme measures. If they catch someone watching the video or humming the song, they put them in detention and force them to listen to a horrible educational video. The video is so borning students quickly get the catchy song out of their head. With this new policy, people only get the song stuck in their head for an average of 4 hours instead of 10. Do you think this will *increase* or *decrease* the percent of students who see the video? Why do you think so?  "
   ]
  },
  {
   "cell_type": "code",
   "execution_count": null,
   "metadata": {},
   "outputs": [],
   "source": [
    "###### Reset the catchiness of the song to 4 \n",
    "catchiness = \n",
    "######\n",
    "\n",
    "##### Re-run model\n",
    "H, S, O = HSO(contact_rate, catchiness)\n",
    "#####\n",
    "\n",
    "##### Plot results\n",
    "plot(H, S, O)\n",
    "#####"
   ]
  },
  {
   "cell_type": "markdown",
   "metadata": {},
   "source": [
    "Did the teachers detention policy stop the spread of video? What percent of students have seen the video after 160 hours now? "
   ]
  },
  {
   "cell_type": "code",
   "execution_count": null,
   "metadata": {},
   "outputs": [],
   "source": [
    "number_seen = O[159]\n",
    "\n",
    "### Your code goes here\n"
   ]
  }
 ],
 "metadata": {
  "kernelspec": {
   "display_name": "Python 3",
   "language": "python",
   "name": "python3"
  },
  "language_info": {
   "codemirror_mode": {
    "name": "ipython",
    "version": 3
   },
   "file_extension": ".py",
   "mimetype": "text/x-python",
   "name": "python",
   "nbconvert_exporter": "python",
   "pygments_lexer": "ipython3",
   "version": "3.7.3"
  }
 },
 "nbformat": 4,
 "nbformat_minor": 2
}
