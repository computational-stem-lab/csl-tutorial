{
 "cells": [
  {
   "cell_type": "markdown",
   "metadata": {},
   "source": [
    "## Viral Video Activity\n",
    "\n",
    "Every few weeks it seems that there is a new \"viral\" video (a new tick tock dance, a funny cat video, a clip of someone being pranked, etc.) that everyone has seen. This video of Brody the dog interupting the weather forcast (https://www.youtube.com/watch?v=XehLZLOyVUc) has been viewed over 3 million times on YouTube since it was posted in April. How do these videos spread? Can we use computers to predict the spread of a viral video? Are we able to estimate how many people will watch a viral video? How long it will be popular for? In this activity we are going to use code to try and answer these questions.   "
   ]
  },
  {
   "cell_type": "markdown",
   "metadata": {},
   "source": [
    "**Situation:** Your friend from school has just sent you a brand new video of a super catchy song. The song gets stuck in your head immediately and you instantly know that this song is going to \"go viral\" in your middle school. You start texting the link to friends at school and wonder how long it will be until the whole school has listened to it?       "
   ]
  },
  {
   "cell_type": "markdown",
   "metadata": {},
   "source": [
    "Here we are going use a computer model to answer this question. A scientific model is an object, diagram, or computer program that helps us understand something by making it simpler. For example, meterologists use models to predict the weather before it happens. Models approximate what happens in real life but they also have limitations. Most of the time meterologists can predict when it will rain using their models but sometimes you check the weather app in the morning and it predicts a sunny day but it still rains in the afternoon. Scientists collect data and build their models based on evidence. Here we are going to use a model that scientists have created to explain how things spread across a group of people. We will use this model to predict how our viral video will spread across our middle school.    \n",
    "\n",
    "**Model:** In this model there are 3 types of people; people who have not yet seen the video (H), people who have seen it and have the song stuck in their head (S), and people who have seen it and managed to get it out of their head and are now \"over it\"(O). The rate at which people who are currently obessed with the song spread the video to people who have never seen it depends on how many people they text the link to and how many of those people open the link and get it stuck in their head. In this model we are going to say that 1 in 10 people you send the link to actually opens it and becomes obsessed. We will investigate how changing the `contact_rate` (the number of people an obsessed person sends the link to per hour) changes the spread of the video. The other thing we will investigate is the `catchiness` of the songs. The `catchiness` is the average time someone has the song stuck in their head before getting over it.   \n",
    "\n",
    "![title](HSO.png)"
   ]
  },
  {
   "cell_type": "markdown",
   "metadata": {},
   "source": [
    "Let's use code to investigate how fast the video will spread under different circumstances! First let's model the spread of the video if you send the video to 2 friends per hour and the song is stuck in your head for 10 hours. In the code block below set `contact_rate` equal to 2 and `catchiness` equal to 10. "
   ]
  },
  {
   "cell_type": "code",
   "execution_count": null,
   "metadata": {},
   "outputs": [],
   "source": [
    "# This code is loading modules we need to run the model\n",
    "from helper_functions import deriv, HSO, plot\n",
    "import numpy as np \n",
    "\n",
    "####### Set the number of people who send the video per hour equal to 2\n",
    "contact_rate = \n",
    "#######\n",
    "\n",
    "####### Set the amount of time the video gets stuck in someone's head equal to 10\n",
    "catchiness = \n",
    "#######"
   ]
  },
  {
   "cell_type": "markdown",
   "metadata": {},
   "source": [
    "In the code chunck below we are calling a function that uses the `contact_rate` and `catchiness` parameters to model the spread of the virus over time. Run the model to get the number of have not seen it, stuck in head, and over it individuals over the next 160 hours.   "
   ]
  },
  {
   "cell_type": "code",
   "execution_count": null,
   "metadata": {},
   "outputs": [],
   "source": [
    "H, S, O = HSO(contact_rate, catchiness)"
   ]
  },
  {
   "cell_type": "markdown",
   "metadata": {},
   "source": [
    "We have sucessfully run our model, let's take a look at the results! The code below will take the results of our simulation and plots them so we can analyze what predicitions our model makes. Can anyone explain what the meaning of this graph is? "
   ]
  },
  {
   "cell_type": "code",
   "execution_count": null,
   "metadata": {},
   "outputs": [],
   "source": [
    "plot(H, S, O)"
   ]
  },
  {
   "cell_type": "markdown",
   "metadata": {},
   "source": [
    "Nice job! In the plot above we can see the number of students in each of our three groups. From the plot, at what time will most people have the song stuck in their head? We can also use code to answer this question. In the code block below we are using the function `np.argmax` to check at which time does `S` have the greatest value. "
   ]
  },
  {
   "cell_type": "code",
   "execution_count": null,
   "metadata": {},
   "outputs": [],
   "source": [
    "# Max obsessed\n",
    "np.argmax(S)"
   ]
  },
  {
   "cell_type": "markdown",
   "metadata": {},
   "source": [
    "After 160 hours, how many students have seen the video and now over it? We can also use code to answer this question. The code `np.max(O)` tells us the number of students who are over it afer 160 hours. We need to divide by the number of students in the school to get the proportion of the school that has seen the video and are now over it. Can you divide `np.max(O)` by the number of students?    "
   ]
  },
  {
   "cell_type": "code",
   "execution_count": null,
   "metadata": {},
   "outputs": [],
   "source": [
    "# Proportion who have seen it and are over it after 160 hours\n",
    "np.max(O) "
   ]
  },
  {
   "cell_type": "markdown",
   "metadata": {},
   "source": [
    "What if the teachers aren't paying close attention in class and students can now text 4 people per hour instead of 2? Let's reset `contact_rate` and re-run our model. "
   ]
  },
  {
   "cell_type": "code",
   "execution_count": null,
   "metadata": {},
   "outputs": [],
   "source": [
    "###### Reset the number of people you text per hour to 4\n",
    "contact_rate = \n",
    "######\n",
    "\n",
    "##### Re-run model\n",
    "H, S, O = HSO(contact_rate, catchiness)\n",
    "#####\n",
    "\n",
    "##### Plot results\n",
    "plot(H, S, O)\n",
    "#####"
   ]
  },
  {
   "cell_type": "markdown",
   "metadata": {},
   "source": [
    "How does increasing the contact rate change our predictions? How many people have the song stuck in their head at the peak of the obsession?"
   ]
  },
  {
   "cell_type": "code",
   "execution_count": null,
   "metadata": {},
   "outputs": [],
   "source": [
    "# Max infected\n",
    "np.max(S)"
   ]
  },
  {
   "cell_type": "markdown",
   "metadata": {},
   "source": [
    "From the plot can you tell about what time has the whole school is over it? Did increasing the number of people an obsessed student texts per hour *increase* or *decrease* the percentage of students who have seen the video after 160 hours?"
   ]
  },
  {
   "cell_type": "code",
   "execution_count": null,
   "metadata": {},
   "outputs": [],
   "source": [
    "# Proportion who have seen it and are over it after 160 hours\n",
    "np.max(O) "
   ]
  },
  {
   "cell_type": "markdown",
   "metadata": {},
   "source": [
    "The teachers have caught on and are sick of students watching the video! To stop the spread of they resort to extreme measures. If they catch someone watching the video or humming the song, they put them in detention and force them to listen to a horrible educational video. The video is so borning students quickly get the catchy song out of their head. With this new policy, people only get the song stuck in their head for an average of 4 hours instead of 10.  "
   ]
  },
  {
   "cell_type": "code",
   "execution_count": null,
   "metadata": {},
   "outputs": [],
   "source": [
    "###### Reset the catchiness of the song to 4 \n",
    "catchiness = \n",
    "######\n",
    "\n",
    "##### Re-run model\n",
    "H, S, O = HSO(contact_rate, catchiness)\n",
    "#####\n",
    "\n",
    "##### Plot results\n",
    "plot(H, S, O)\n",
    "#####"
   ]
  },
  {
   "cell_type": "markdown",
   "metadata": {},
   "source": [
    "Did the teachers detention policy stop the spread of video? What proportion of students have seen the video after 160 hours now? "
   ]
  },
  {
   "cell_type": "code",
   "execution_count": null,
   "metadata": {},
   "outputs": [],
   "source": [
    "# Proportion who have seen it and are over it after 160 hours\n",
    "np.max(O)"
   ]
  }
 ],
 "metadata": {
  "kernelspec": {
   "display_name": "Python 3",
   "language": "python",
   "name": "python3"
  },
  "language_info": {
   "codemirror_mode": {
    "name": "ipython",
    "version": 3
   },
   "file_extension": ".py",
   "mimetype": "text/x-python",
   "name": "python",
   "nbconvert_exporter": "python",
   "pygments_lexer": "ipython3",
   "version": "3.7.3"
  }
 },
 "nbformat": 4,
 "nbformat_minor": 2
}
